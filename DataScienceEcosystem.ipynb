{
  "metadata": {
    "kernelspec": {
      "name": "python",
      "display_name": "Python (Pyodide)",
      "language": "python"
    },
    "language_info": {
      "codemirror_mode": {
        "name": "python",
        "version": 3
      },
      "file_extension": ".py",
      "mimetype": "text/x-python",
      "name": "python",
      "nbconvert_exporter": "python",
      "pygments_lexer": "ipython3",
      "version": "3.8"
    }
  },
  "nbformat_minor": 5,
  "nbformat": 4,
  "cells": [
    {
      "id": "ad5284df-ac82-4fc5-89e0-14b52b54bf9e",
      "cell_type": "markdown",
      "source": "# Data Science Tools and Ecosystem",
      "metadata": {}
    },
    {
      "id": "5b8ef3fe-1605-402f-88d0-46d18e48b9de",
      "cell_type": "markdown",
      "source": "In this notebook, Data Science Tools and Ecosystem are summarized.",
      "metadata": {}
    },
    {
      "id": "eb3dc6ab-41f1-4b8c-ad07-1a10d43dbe65",
      "cell_type": "markdown",
      "source": "__Objectives:__\n* List popular languages for Data Science\n* List some commonly libraries for Data Science\n* Create a table with Data Science Tools\n* Make examples evaluating arithmetic examples",
      "metadata": {}
    },
    {
      "id": "9ddf1b8b-d2e9-4d23-bde5-624f38fc0801",
      "cell_type": "markdown",
      "source": "Some of the popular languages that Data Scientists use are:\n1. Phyton\n2. R\n3. SQL",
      "metadata": {}
    },
    {
      "id": "ce516b04-ec43-41a3-a373-5117003e1502",
      "cell_type": "markdown",
      "source": "Some of the commonly used libraries used by Data Scientists include:\n* Pandas\n* NumPy\n* Matplotlib",
      "metadata": {}
    },
    {
      "id": "a7d32b1d-70c2-4136-88a9-0fde4113872b",
      "cell_type": "markdown",
      "source": "\n|Data Science Tools|\n|------------------|\n|Jupyter Notebook|\n|RStudio|\n|Google Colab|",
      "metadata": {}
    },
    {
      "id": "d02b6ed7-7fe6-4495-8c63-88519113f416",
      "cell_type": "markdown",
      "source": "### Below are a few examples of evaluating arithmetic expressions in Python.",
      "metadata": {}
    },
    {
      "id": "52241ccf-6d5f-4d38-b24d-6cb6704ad1c2",
      "cell_type": "markdown",
      "source": "This a simple arithmetic expression to mutiply then add integers",
      "metadata": {}
    },
    {
      "id": "4992f583-397c-4045-8748-74356b5ddcd7",
      "cell_type": "code",
      "source": "(3*4)+5",
      "metadata": {
        "trusted": true
      },
      "outputs": [
        {
          "execution_count": 3,
          "output_type": "execute_result",
          "data": {
            "text/plain": "17"
          },
          "metadata": {}
        }
      ],
      "execution_count": 3
    },
    {
      "id": "81cc5d7b-00f4-477a-8db5-08cc9d65c67c",
      "cell_type": "markdown",
      "source": "This will convert 200 minutes to hours by diving by 60",
      "metadata": {}
    },
    {
      "id": "99845379-53f2-4e78-b587-6ccca2a8cdcb",
      "cell_type": "code",
      "source": "print(str(200/60),\"hours\")",
      "metadata": {
        "trusted": true
      },
      "outputs": [
        {
          "name": "stdout",
          "output_type": "stream",
          "text": "3.3333333333333335 hours\n"
        }
      ],
      "execution_count": 12
    },
    {
      "id": "db285092-3594-41b1-abe9-3c3219e383e5",
      "cell_type": "markdown",
      "source": "## Author\nIng. Joao Palacios.",
      "metadata": {}
    }
  ]
}